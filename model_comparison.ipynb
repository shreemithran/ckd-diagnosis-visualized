{
 "cells": [
  {
   "cell_type": "markdown",
   "id": "a854afce",
   "metadata": {},
   "source": [
    "### Visualizing Predictions of Chronic Kidney Disease: A Machine Learning Approach\n",
    "\n",
    "##### Student Name: Shreemithra Naveen, Student ID: 23895041\n",
    "##### Student Name: Sai Laasya Gorantla, Student ID: 23884136\n",
    "\n",
    "\n"
   ]
  },
  {
   "cell_type": "markdown",
   "id": "b7746942",
   "metadata": {},
   "source": [
    "##### Importing the libraries"
   ]
  },
  {
   "cell_type": "code",
   "execution_count": 2,
   "id": "2893b9d8",
   "metadata": {},
   "outputs": [],
   "source": [
    "#Importing libraries\n",
    "import pandas as pd\n",
    "import numpy as np\n",
    "import seaborn as sns\n",
    "import matplotlib.pyplot as plt\n",
    "import random\n",
    "from sklearn.model_selection import train_test_split\n",
    "from sklearn.neighbors import KNeighborsClassifier\n",
    "from sklearn.metrics import accuracy_score, confusion_matrix, classification_report\n",
    "from sklearn.tree import DecisionTreeClassifier\n"
   ]
  },
  {
   "cell_type": "code",
   "execution_count": 3,
   "id": "621c696b",
   "metadata": {},
   "outputs": [
    {
     "ename": "FileNotFoundError",
     "evalue": "[Errno 2] No such file or directory: 'kidney_disease.csv'",
     "output_type": "error",
     "traceback": [
      "\u001b[31m---------------------------------------------------------------------------\u001b[39m",
      "\u001b[31mFileNotFoundError\u001b[39m                         Traceback (most recent call last)",
      "\u001b[36mCell\u001b[39m\u001b[36m \u001b[39m\u001b[32mIn[3]\u001b[39m\u001b[32m, line 2\u001b[39m\n\u001b[32m      1\u001b[39m \u001b[38;5;66;03m#Loading the file\u001b[39;00m\n\u001b[32m----> \u001b[39m\u001b[32m2\u001b[39m disease = \u001b[43mpd\u001b[49m\u001b[43m.\u001b[49m\u001b[43mread_csv\u001b[49m\u001b[43m(\u001b[49m\u001b[33;43m'\u001b[39;49m\u001b[33;43mkidney_disease.csv\u001b[39;49m\u001b[33;43m'\u001b[39;49m\u001b[43m)\u001b[49m\n",
      "\u001b[36mFile \u001b[39m\u001b[32mc:\\Users\\shree\\ckd-diagnosis-visualized\\.venv\\Lib\\site-packages\\pandas\\io\\parsers\\readers.py:1026\u001b[39m, in \u001b[36mread_csv\u001b[39m\u001b[34m(filepath_or_buffer, sep, delimiter, header, names, index_col, usecols, dtype, engine, converters, true_values, false_values, skipinitialspace, skiprows, skipfooter, nrows, na_values, keep_default_na, na_filter, verbose, skip_blank_lines, parse_dates, infer_datetime_format, keep_date_col, date_parser, date_format, dayfirst, cache_dates, iterator, chunksize, compression, thousands, decimal, lineterminator, quotechar, quoting, doublequote, escapechar, comment, encoding, encoding_errors, dialect, on_bad_lines, delim_whitespace, low_memory, memory_map, float_precision, storage_options, dtype_backend)\u001b[39m\n\u001b[32m   1013\u001b[39m kwds_defaults = _refine_defaults_read(\n\u001b[32m   1014\u001b[39m     dialect,\n\u001b[32m   1015\u001b[39m     delimiter,\n\u001b[32m   (...)\u001b[39m\u001b[32m   1022\u001b[39m     dtype_backend=dtype_backend,\n\u001b[32m   1023\u001b[39m )\n\u001b[32m   1024\u001b[39m kwds.update(kwds_defaults)\n\u001b[32m-> \u001b[39m\u001b[32m1026\u001b[39m \u001b[38;5;28;01mreturn\u001b[39;00m \u001b[43m_read\u001b[49m\u001b[43m(\u001b[49m\u001b[43mfilepath_or_buffer\u001b[49m\u001b[43m,\u001b[49m\u001b[43m \u001b[49m\u001b[43mkwds\u001b[49m\u001b[43m)\u001b[49m\n",
      "\u001b[36mFile \u001b[39m\u001b[32mc:\\Users\\shree\\ckd-diagnosis-visualized\\.venv\\Lib\\site-packages\\pandas\\io\\parsers\\readers.py:620\u001b[39m, in \u001b[36m_read\u001b[39m\u001b[34m(filepath_or_buffer, kwds)\u001b[39m\n\u001b[32m    617\u001b[39m _validate_names(kwds.get(\u001b[33m\"\u001b[39m\u001b[33mnames\u001b[39m\u001b[33m\"\u001b[39m, \u001b[38;5;28;01mNone\u001b[39;00m))\n\u001b[32m    619\u001b[39m \u001b[38;5;66;03m# Create the parser.\u001b[39;00m\n\u001b[32m--> \u001b[39m\u001b[32m620\u001b[39m parser = \u001b[43mTextFileReader\u001b[49m\u001b[43m(\u001b[49m\u001b[43mfilepath_or_buffer\u001b[49m\u001b[43m,\u001b[49m\u001b[43m \u001b[49m\u001b[43m*\u001b[49m\u001b[43m*\u001b[49m\u001b[43mkwds\u001b[49m\u001b[43m)\u001b[49m\n\u001b[32m    622\u001b[39m \u001b[38;5;28;01mif\u001b[39;00m chunksize \u001b[38;5;129;01mor\u001b[39;00m iterator:\n\u001b[32m    623\u001b[39m     \u001b[38;5;28;01mreturn\u001b[39;00m parser\n",
      "\u001b[36mFile \u001b[39m\u001b[32mc:\\Users\\shree\\ckd-diagnosis-visualized\\.venv\\Lib\\site-packages\\pandas\\io\\parsers\\readers.py:1620\u001b[39m, in \u001b[36mTextFileReader.__init__\u001b[39m\u001b[34m(self, f, engine, **kwds)\u001b[39m\n\u001b[32m   1617\u001b[39m     \u001b[38;5;28mself\u001b[39m.options[\u001b[33m\"\u001b[39m\u001b[33mhas_index_names\u001b[39m\u001b[33m\"\u001b[39m] = kwds[\u001b[33m\"\u001b[39m\u001b[33mhas_index_names\u001b[39m\u001b[33m\"\u001b[39m]\n\u001b[32m   1619\u001b[39m \u001b[38;5;28mself\u001b[39m.handles: IOHandles | \u001b[38;5;28;01mNone\u001b[39;00m = \u001b[38;5;28;01mNone\u001b[39;00m\n\u001b[32m-> \u001b[39m\u001b[32m1620\u001b[39m \u001b[38;5;28mself\u001b[39m._engine = \u001b[38;5;28;43mself\u001b[39;49m\u001b[43m.\u001b[49m\u001b[43m_make_engine\u001b[49m\u001b[43m(\u001b[49m\u001b[43mf\u001b[49m\u001b[43m,\u001b[49m\u001b[43m \u001b[49m\u001b[38;5;28;43mself\u001b[39;49m\u001b[43m.\u001b[49m\u001b[43mengine\u001b[49m\u001b[43m)\u001b[49m\n",
      "\u001b[36mFile \u001b[39m\u001b[32mc:\\Users\\shree\\ckd-diagnosis-visualized\\.venv\\Lib\\site-packages\\pandas\\io\\parsers\\readers.py:1880\u001b[39m, in \u001b[36mTextFileReader._make_engine\u001b[39m\u001b[34m(self, f, engine)\u001b[39m\n\u001b[32m   1878\u001b[39m     \u001b[38;5;28;01mif\u001b[39;00m \u001b[33m\"\u001b[39m\u001b[33mb\u001b[39m\u001b[33m\"\u001b[39m \u001b[38;5;129;01mnot\u001b[39;00m \u001b[38;5;129;01min\u001b[39;00m mode:\n\u001b[32m   1879\u001b[39m         mode += \u001b[33m\"\u001b[39m\u001b[33mb\u001b[39m\u001b[33m\"\u001b[39m\n\u001b[32m-> \u001b[39m\u001b[32m1880\u001b[39m \u001b[38;5;28mself\u001b[39m.handles = \u001b[43mget_handle\u001b[49m\u001b[43m(\u001b[49m\n\u001b[32m   1881\u001b[39m \u001b[43m    \u001b[49m\u001b[43mf\u001b[49m\u001b[43m,\u001b[49m\n\u001b[32m   1882\u001b[39m \u001b[43m    \u001b[49m\u001b[43mmode\u001b[49m\u001b[43m,\u001b[49m\n\u001b[32m   1883\u001b[39m \u001b[43m    \u001b[49m\u001b[43mencoding\u001b[49m\u001b[43m=\u001b[49m\u001b[38;5;28;43mself\u001b[39;49m\u001b[43m.\u001b[49m\u001b[43moptions\u001b[49m\u001b[43m.\u001b[49m\u001b[43mget\u001b[49m\u001b[43m(\u001b[49m\u001b[33;43m\"\u001b[39;49m\u001b[33;43mencoding\u001b[39;49m\u001b[33;43m\"\u001b[39;49m\u001b[43m,\u001b[49m\u001b[43m \u001b[49m\u001b[38;5;28;43;01mNone\u001b[39;49;00m\u001b[43m)\u001b[49m\u001b[43m,\u001b[49m\n\u001b[32m   1884\u001b[39m \u001b[43m    \u001b[49m\u001b[43mcompression\u001b[49m\u001b[43m=\u001b[49m\u001b[38;5;28;43mself\u001b[39;49m\u001b[43m.\u001b[49m\u001b[43moptions\u001b[49m\u001b[43m.\u001b[49m\u001b[43mget\u001b[49m\u001b[43m(\u001b[49m\u001b[33;43m\"\u001b[39;49m\u001b[33;43mcompression\u001b[39;49m\u001b[33;43m\"\u001b[39;49m\u001b[43m,\u001b[49m\u001b[43m \u001b[49m\u001b[38;5;28;43;01mNone\u001b[39;49;00m\u001b[43m)\u001b[49m\u001b[43m,\u001b[49m\n\u001b[32m   1885\u001b[39m \u001b[43m    \u001b[49m\u001b[43mmemory_map\u001b[49m\u001b[43m=\u001b[49m\u001b[38;5;28;43mself\u001b[39;49m\u001b[43m.\u001b[49m\u001b[43moptions\u001b[49m\u001b[43m.\u001b[49m\u001b[43mget\u001b[49m\u001b[43m(\u001b[49m\u001b[33;43m\"\u001b[39;49m\u001b[33;43mmemory_map\u001b[39;49m\u001b[33;43m\"\u001b[39;49m\u001b[43m,\u001b[49m\u001b[43m \u001b[49m\u001b[38;5;28;43;01mFalse\u001b[39;49;00m\u001b[43m)\u001b[49m\u001b[43m,\u001b[49m\n\u001b[32m   1886\u001b[39m \u001b[43m    \u001b[49m\u001b[43mis_text\u001b[49m\u001b[43m=\u001b[49m\u001b[43mis_text\u001b[49m\u001b[43m,\u001b[49m\n\u001b[32m   1887\u001b[39m \u001b[43m    \u001b[49m\u001b[43merrors\u001b[49m\u001b[43m=\u001b[49m\u001b[38;5;28;43mself\u001b[39;49m\u001b[43m.\u001b[49m\u001b[43moptions\u001b[49m\u001b[43m.\u001b[49m\u001b[43mget\u001b[49m\u001b[43m(\u001b[49m\u001b[33;43m\"\u001b[39;49m\u001b[33;43mencoding_errors\u001b[39;49m\u001b[33;43m\"\u001b[39;49m\u001b[43m,\u001b[49m\u001b[43m \u001b[49m\u001b[33;43m\"\u001b[39;49m\u001b[33;43mstrict\u001b[39;49m\u001b[33;43m\"\u001b[39;49m\u001b[43m)\u001b[49m\u001b[43m,\u001b[49m\n\u001b[32m   1888\u001b[39m \u001b[43m    \u001b[49m\u001b[43mstorage_options\u001b[49m\u001b[43m=\u001b[49m\u001b[38;5;28;43mself\u001b[39;49m\u001b[43m.\u001b[49m\u001b[43moptions\u001b[49m\u001b[43m.\u001b[49m\u001b[43mget\u001b[49m\u001b[43m(\u001b[49m\u001b[33;43m\"\u001b[39;49m\u001b[33;43mstorage_options\u001b[39;49m\u001b[33;43m\"\u001b[39;49m\u001b[43m,\u001b[49m\u001b[43m \u001b[49m\u001b[38;5;28;43;01mNone\u001b[39;49;00m\u001b[43m)\u001b[49m\u001b[43m,\u001b[49m\n\u001b[32m   1889\u001b[39m \u001b[43m\u001b[49m\u001b[43m)\u001b[49m\n\u001b[32m   1890\u001b[39m \u001b[38;5;28;01massert\u001b[39;00m \u001b[38;5;28mself\u001b[39m.handles \u001b[38;5;129;01mis\u001b[39;00m \u001b[38;5;129;01mnot\u001b[39;00m \u001b[38;5;28;01mNone\u001b[39;00m\n\u001b[32m   1891\u001b[39m f = \u001b[38;5;28mself\u001b[39m.handles.handle\n",
      "\u001b[36mFile \u001b[39m\u001b[32mc:\\Users\\shree\\ckd-diagnosis-visualized\\.venv\\Lib\\site-packages\\pandas\\io\\common.py:873\u001b[39m, in \u001b[36mget_handle\u001b[39m\u001b[34m(path_or_buf, mode, encoding, compression, memory_map, is_text, errors, storage_options)\u001b[39m\n\u001b[32m    868\u001b[39m \u001b[38;5;28;01melif\u001b[39;00m \u001b[38;5;28misinstance\u001b[39m(handle, \u001b[38;5;28mstr\u001b[39m):\n\u001b[32m    869\u001b[39m     \u001b[38;5;66;03m# Check whether the filename is to be opened in binary mode.\u001b[39;00m\n\u001b[32m    870\u001b[39m     \u001b[38;5;66;03m# Binary mode does not support 'encoding' and 'newline'.\u001b[39;00m\n\u001b[32m    871\u001b[39m     \u001b[38;5;28;01mif\u001b[39;00m ioargs.encoding \u001b[38;5;129;01mand\u001b[39;00m \u001b[33m\"\u001b[39m\u001b[33mb\u001b[39m\u001b[33m\"\u001b[39m \u001b[38;5;129;01mnot\u001b[39;00m \u001b[38;5;129;01min\u001b[39;00m ioargs.mode:\n\u001b[32m    872\u001b[39m         \u001b[38;5;66;03m# Encoding\u001b[39;00m\n\u001b[32m--> \u001b[39m\u001b[32m873\u001b[39m         handle = \u001b[38;5;28;43mopen\u001b[39;49m\u001b[43m(\u001b[49m\n\u001b[32m    874\u001b[39m \u001b[43m            \u001b[49m\u001b[43mhandle\u001b[49m\u001b[43m,\u001b[49m\n\u001b[32m    875\u001b[39m \u001b[43m            \u001b[49m\u001b[43mioargs\u001b[49m\u001b[43m.\u001b[49m\u001b[43mmode\u001b[49m\u001b[43m,\u001b[49m\n\u001b[32m    876\u001b[39m \u001b[43m            \u001b[49m\u001b[43mencoding\u001b[49m\u001b[43m=\u001b[49m\u001b[43mioargs\u001b[49m\u001b[43m.\u001b[49m\u001b[43mencoding\u001b[49m\u001b[43m,\u001b[49m\n\u001b[32m    877\u001b[39m \u001b[43m            \u001b[49m\u001b[43merrors\u001b[49m\u001b[43m=\u001b[49m\u001b[43merrors\u001b[49m\u001b[43m,\u001b[49m\n\u001b[32m    878\u001b[39m \u001b[43m            \u001b[49m\u001b[43mnewline\u001b[49m\u001b[43m=\u001b[49m\u001b[33;43m\"\u001b[39;49m\u001b[33;43m\"\u001b[39;49m\u001b[43m,\u001b[49m\n\u001b[32m    879\u001b[39m \u001b[43m        \u001b[49m\u001b[43m)\u001b[49m\n\u001b[32m    880\u001b[39m     \u001b[38;5;28;01melse\u001b[39;00m:\n\u001b[32m    881\u001b[39m         \u001b[38;5;66;03m# Binary mode\u001b[39;00m\n\u001b[32m    882\u001b[39m         handle = \u001b[38;5;28mopen\u001b[39m(handle, ioargs.mode)\n",
      "\u001b[31mFileNotFoundError\u001b[39m: [Errno 2] No such file or directory: 'kidney_disease.csv'"
     ]
    }
   ],
   "source": [
    "#Loading the file\n",
    "disease = pd.read_csv('kidney_disease.csv')"
   ]
  },
  {
   "cell_type": "code",
   "execution_count": null,
   "id": "76b7136f",
   "metadata": {},
   "outputs": [],
   "source": [
    "#Shape\n",
    "print(\"Shape of the disease dataframe\", disease.shape)"
   ]
  },
  {
   "cell_type": "code",
   "execution_count": null,
   "id": "009d141b",
   "metadata": {},
   "outputs": [],
   "source": [
    "#First five rows\n",
    "print(disease.head())"
   ]
  },
  {
   "cell_type": "code",
   "execution_count": null,
   "id": "3fed1fe0",
   "metadata": {},
   "outputs": [],
   "source": [
    "#Dropping off the column 'id'\n",
    "disease = disease.drop('id', axis = 1)"
   ]
  },
  {
   "cell_type": "code",
   "execution_count": null,
   "id": "3a3f01db",
   "metadata": {},
   "outputs": [],
   "source": [
    "#Renaming the columns for easy understanding the column and dataset clearly\n",
    "disease.columns = ['age', 'blood_pressure', 'specific_gravity', 'albumin', 'sugar', 'red_blood_cells', 'pus_cell',\n",
    "'pus_cell_clumps', 'bacteria', 'blood_glucose_random', 'blood_urea', 'serum_creatinine', 'sodium','potassium', 'haemoglobin', 'packed_cell_volume', 'white_blood_cell_count', 'red_blood_cell_count',\n",
    "'hypertension', 'diabetes_mellitus', 'coronary_artery_disease', 'appetite', 'peda_edema','aanemia', 'class']"
   ]
  },
  {
   "cell_type": "code",
   "execution_count": null,
   "id": "ba73d0d4",
   "metadata": {},
   "outputs": [],
   "source": [
    "print(disease['class'].unique)"
   ]
  },
  {
   "cell_type": "code",
   "execution_count": null,
   "id": "5b8e0be8",
   "metadata": {},
   "outputs": [],
   "source": [
    "#Information about the dataframe\n",
    "disease.info()"
   ]
  },
  {
   "cell_type": "markdown",
   "id": "c0a6633c",
   "metadata": {},
   "source": [
    "### Handling null values\n"
   ]
  },
  {
   "cell_type": "code",
   "execution_count": null,
   "id": "d125883a",
   "metadata": {},
   "outputs": [],
   "source": [
    "disease.isna().sum()"
   ]
  },
  {
   "cell_type": "markdown",
   "id": "fbebebf2",
   "metadata": {},
   "source": [
    "It is clear that every column has null values so we need to drop "
   ]
  },
  {
   "cell_type": "code",
   "execution_count": null,
   "id": "38e032c5",
   "metadata": {},
   "outputs": [],
   "source": [
    "#Understaning the summary stastics\n",
    "disease.describe()"
   ]
  },
  {
   "cell_type": "markdown",
   "id": "2e0a8c28",
   "metadata": {},
   "source": [
    "##### Converting the column named white - red blood cells and packed_cell_volume into the numerical value as it is of object type\n",
    "\n"
   ]
  },
  {
   "cell_type": "code",
   "execution_count": null,
   "id": "5ea6a9ce",
   "metadata": {},
   "outputs": [],
   "source": [
    "#Converting the column, the errors is applied for not considering the NA values\n",
    "disease[['packed_cell_volume', 'white_blood_cell_count', 'red_blood_cell_count']] = disease[['packed_cell_volume', 'white_blood_cell_count', 'red_blood_cell_count']].apply(pd.to_numeric, errors = 'coerce')"
   ]
  },
  {
   "cell_type": "code",
   "execution_count": null,
   "id": "15f24826",
   "metadata": {},
   "outputs": [],
   "source": [
    "#As the 6-6 column has just 1,2 or 4 missing values\n",
    "disease.dropna(subset=['hypertension', 'diabetes_mellitus','coronary_artery_disease','appetite', 'peda_edema','aanemia', 'bacteria', 'pus_cell_clumps'], inplace = True)"
   ]
  },
  {
   "cell_type": "code",
   "execution_count": null,
   "id": "5befd8f5",
   "metadata": {},
   "outputs": [],
   "source": [
    "numerical_columns_null = ['age','blood_pressure', 'specific_gravity', 'albumin' ,'sugar', 'blood_glucose_random' , 'blood_urea' , 'serum_creatinine', 'sodium', 'potassium' ,'haemoglobin', 'packed_cell_volume', 'white_blood_cell_count', 'red_blood_cell_count']\n",
    "\n",
    "for feature in numerical_columns_null:\n",
    "    disease[feature].fillna(disease[feature].mean(), inplace = True)"
   ]
  },
  {
   "cell_type": "code",
   "execution_count": null,
   "id": "c9995de0",
   "metadata": {},
   "outputs": [],
   "source": [
    "disease.isna().sum()"
   ]
  },
  {
   "cell_type": "code",
   "execution_count": null,
   "id": "17e2b31e",
   "metadata": {},
   "outputs": [],
   "source": [
    "categorical_null = ['red_blood_cells', 'pus_cell']\n",
    "\n",
    "values = ['normal', 'abnormal']\n",
    "for feature in categorical_null:\n",
    "    print(disease[feature].unique(), disease[feature].isna().sum())\n",
    "    disease[feature].fillna(random.choice(values), inplace=True)\n"
   ]
  },
  {
   "cell_type": "code",
   "execution_count": null,
   "id": "82f66ce8",
   "metadata": {},
   "outputs": [],
   "source": [
    "disease.isna().sum()"
   ]
  },
  {
   "cell_type": "code",
   "execution_count": null,
   "id": "239fc612",
   "metadata": {},
   "outputs": [],
   "source": [
    "categorical = disease.select_dtypes(include = 'object')\n",
    "categorical.columns "
   ]
  },
  {
   "cell_type": "code",
   "execution_count": null,
   "id": "f2a14513",
   "metadata": {},
   "outputs": [],
   "source": [
    "plt.figure(figsize=(15,15))\n",
    "for i,col_name in enumerate(categorical.columns, start = 1):\n",
    "    plt.subplot(3,4,i)\n",
    "    sns.countplot(x = disease[col_name])\n",
    "plt.show()"
   ]
  },
  {
   "cell_type": "code",
   "execution_count": null,
   "id": "8d9f482a",
   "metadata": {},
   "outputs": [],
   "source": [
    "## Replacing the incorrect values - cleaning\n",
    "print(disease['class'].unique())\n",
    "# Clean 'diabetes_mellitus' column\n",
    "disease['diabetes_mellitus']= disease['diabetes_mellitus'].replace(to_replace={'\\tno': 'no', '\\tyes': 'yes', ' yes': 'yes'})\n",
    "disease['coronary_artery_disease'] = disease['coronary_artery_disease'].replace(to_replace='\\tno',value='no')\n",
    "disease['class'] = disease['class'].replace(to_replace={'ckd\\t': 'ckd'})\n",
    "\n",
    "print(disease['class'].unique())"
   ]
  },
  {
   "cell_type": "code",
   "execution_count": null,
   "id": "c8b8148d",
   "metadata": {},
   "outputs": [],
   "source": [
    "#Converting the class to the numerical column and also assigning binary values\n",
    "print(disease['class'].unique())\n",
    "disease['class'] = disease['class'].map({'ckd': 0, 'notckd': 1})\n",
    "disease['class'] = pd.to_numeric(disease['class'], errors='coerce')\n",
    "print(disease['class'].unique())\n",
    "\n",
    "disease['class'].dtype\n"
   ]
  },
  {
   "cell_type": "code",
   "execution_count": null,
   "id": "54648021",
   "metadata": {},
   "outputs": [],
   "source": [
    "#Fetching the numerical columns\n",
    "numerical_columns = disease.select_dtypes(exclude = 'object')\n",
    "\n",
    "numerical_columns.columns"
   ]
  },
  {
   "cell_type": "code",
   "execution_count": null,
   "id": "5f404460",
   "metadata": {},
   "outputs": [],
   "source": [
    "plt.figure(figsize=(15,15))\n",
    "sns.pairplot(numerical_columns)\n",
    "plt.show()"
   ]
  },
  {
   "cell_type": "markdown",
   "id": "05fa3ee3",
   "metadata": {},
   "source": [
    "Label encoder and column values"
   ]
  },
  {
   "cell_type": "code",
   "execution_count": null,
   "id": "5e0451e8",
   "metadata": {},
   "outputs": [],
   "source": [
    "plt.figure(figsize=(15,15))\n",
    "sns.heatmap(numerical_columns.corr(), annot=True, cmap = 'Set2')\n",
    "plt.show()\n",
    "\n",
    "\n",
    "numerical_columns.corr()"
   ]
  },
  {
   "cell_type": "code",
   "execution_count": null,
   "id": "4f0304c2",
   "metadata": {},
   "outputs": [],
   "source": [
    "#EDA\n",
    "\n",
    "features = ['red_blood_cell_count', 'packed_cell_volume', 'haemoglobin', 'albumin', 'specific_gravity']\n",
    "class_palette = ({0:\"red\", 1:\"green\"})\n",
    "\n",
    "for feature in features:\n",
    "    plt.figure(figsize=(6,4))\n",
    "    sns.histplot(data = disease, x = feature, hue = 'class', kde = True,  palette= class_palette)\n",
    "    plt.title(f'Distribution of {feature} by Class')\n",
    "    plt.xlabel(feature)\n",
    "    plt.legend(title='Class', labels=['CKD (0)', 'Non-CKD (1)'])\n",
    "    plt.show()\n",
    "    \n"
   ]
  },
  {
   "cell_type": "code",
   "execution_count": null,
   "id": "0218f2c8",
   "metadata": {},
   "outputs": [],
   "source": [
    "##Scatter plot for relationship\n",
    "plt.Figure(figsize=(6,4))\n",
    "sns.scatterplot(data = disease, x = 'haemoglobin', y = 'red_blood_cell_count', hue= 'class')\n",
    "plt.xlabel(\"haemoglobin\")\n",
    "plt.ylabel(\"red_blood_cell_count\")\n",
    "plt.title(\"Relationship between red_blood_cell_count vs haemoglobin\")\n",
    "plt.show()"
   ]
  },
  {
   "cell_type": "code",
   "execution_count": null,
   "id": "c076a28f",
   "metadata": {},
   "outputs": [],
   "source": [
    "##Scatter plot for relationship\n",
    "plt.Figure(figsize=(6,4))\n",
    "sns.scatterplot(data = disease, x = 'packed_cell_volume', y = 'red_blood_cell_count', hue= 'class')\n",
    "plt.xlabel(\"packed volumne\")\n",
    "plt.ylabel(\"red_blood_cell_count\")\n",
    "plt.title(\"Relationship between red_blood_cell_count vs packed volumne\")\n",
    "plt.show()"
   ]
  },
  {
   "cell_type": "code",
   "execution_count": null,
   "id": "6b761916",
   "metadata": {},
   "outputs": [],
   "source": [
    "#Model Building\n",
    "\n",
    "#The response and features\n",
    "X = disease[['red_blood_cell_count', 'packed_cell_volume', 'haemoglobin', 'albumin', 'specific_gravity']]\n",
    "y = disease['class']\n",
    "\n",
    "#Splitting the data into train and test\n",
    "X_train, X_test, y_train, y_test = train_test_split(X,y, test_size= 0.2)\n",
    "\n",
    "#Knn model\n",
    "knn = KNeighborsClassifier()\n",
    "knn.fit(X_train, y_train)\n",
    "\n",
    "# accuracy score, confusion matrix and classification report of knn\n",
    "knn_acc = accuracy_score(y_test, knn.predict(X_test))\n",
    "print(f\"Test Accuracy of KNN {knn_acc} \")\n",
    "\n",
    "print(f\"Confusion Matrix : {confusion_matrix(y_test, knn.predict(X_test))}\")\n",
    "print(f\"Classification Report : {classification_report(y_test, knn.predict(X_test))}\")"
   ]
  },
  {
   "cell_type": "code",
   "execution_count": null,
   "id": "113d4046",
   "metadata": {},
   "outputs": [],
   "source": [
    "#Decisoon Tree Classifier\n",
    "\n",
    "dtc = DecisionTreeClassifier()\n",
    "dtc.fit(X_train, y_train)\n",
    "\n",
    "# accuracy score, confusion matrix and classification report of decision tree\n",
    "\n",
    "dtc_acc = accuracy_score(y_test, dtc.predict(X_test))\n",
    "print(f\"Accuracy of Decision Tree Classifier is {dtc_acc}\")\n",
    "\n",
    "print(f\"Confusion Matrix {confusion_matrix(y_test, dtc.predict(X_test))}\")\n",
    "print(f\"Classification Report {classification_report(y_test, dtc.predict(X_test))}\")"
   ]
  },
  {
   "cell_type": "markdown",
   "id": "82fc108a",
   "metadata": {},
   "source": [
    "Compared with KNN the Decision Tree CLssifier works better with accuracy of 96%."
   ]
  },
  {
   "cell_type": "code",
   "execution_count": null,
   "id": "7ede51ab",
   "metadata": {},
   "outputs": [],
   "source": [
    "disease.info()"
   ]
  },
  {
   "cell_type": "code",
   "execution_count": null,
   "id": "e8e1ea76",
   "metadata": {},
   "outputs": [],
   "source": [
    "categorical_cols = [\n",
    "    'red_blood_cells', 'pus_cell', 'pus_cell_clumps', 'bacteria',\n",
    "    'hypertension', 'diabetes_mellitus', 'coronary_artery_disease',\n",
    "    'appetite', 'pedal_edema', 'aanemia'\n",
    "]\n"
   ]
  },
  {
   "cell_type": "code",
   "execution_count": null,
   "id": "dcd8ea60",
   "metadata": {},
   "outputs": [],
   "source": [
    "df_encoded = pd.get_dummies(disease, columns=categorical_cols, drop_first=True)\n"
   ]
  },
  {
   "cell_type": "code",
   "execution_count": null,
   "id": "dfaaccac",
   "metadata": {},
   "outputs": [],
   "source": []
  }
 ],
 "metadata": {
  "kernelspec": {
   "display_name": ".venv",
   "language": "python",
   "name": "python3"
  },
  "language_info": {
   "codemirror_mode": {
    "name": "ipython",
    "version": 3
   },
   "file_extension": ".py",
   "mimetype": "text/x-python",
   "name": "python",
   "nbconvert_exporter": "python",
   "pygments_lexer": "ipython3",
   "version": "3.12.5"
  }
 },
 "nbformat": 4,
 "nbformat_minor": 5
}
